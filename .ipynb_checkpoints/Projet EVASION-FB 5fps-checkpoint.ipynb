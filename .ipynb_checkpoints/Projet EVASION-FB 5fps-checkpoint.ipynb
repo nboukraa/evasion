{
 "cells": [
  {
   "cell_type": "markdown",
   "metadata": {},
   "source": [
    "# PROJET EVASION\n",
    "\n",
    "##### Francois Beauvois AKA CyberChinois\n",
    "##### Nabil Boukraa AKA Devil\n",
    "##### Sofianne Kasm AKA Ghost \n",
    "##### Victor Costa AKA DataNinja\n",
    "\n",
    "Notebook created by V.Costa 10/4/2019\n",
    "\n",
    "Adapted to 5fps"
   ]
  },
  {
   "cell_type": "markdown",
   "metadata": {},
   "source": [
    "Nota benne : \n",
    "\n",
    "Ce notebook est pour expliquer les raisonements utilisées. \n",
    "\n",
    "Le code original est originalement devellopé sur spider.\n",
    "\n",
    "La version la plus abouti du code sera toujours dans le main.py et pas ici.\n",
    "\n",
    "Pour la nomenclature, j'ai 2 regles: commencer par un \"l\" si c'est une variable local et par \"a\" si c'est un argument qui vient de l'exterieur. J'avoue que je ne la respecte pas toujours..."
   ]
  },
  {
   "cell_type": "code",
   "execution_count": 1,
   "metadata": {
    "collapsed": true
   },
   "outputs": [],
   "source": [
    "import os\n",
    "import cv2\n",
    "import numpy as np\n",
    "import matplotlib.pyplot as plt\n",
    "import math"
   ]
  },
  {
   "cell_type": "markdown",
   "metadata": {},
   "source": [
    "Avant de commencer je crée des routines qui vont etre utiles par la suite."
   ]
  },
  {
   "cell_type": "markdown",
   "metadata": {},
   "source": [
    "#### Routine myWriteCSV \n",
    "pour ecrire les frames selectionnées au format csv. En realité ce n'est pas un csv (library csv non utilisé) mais je l'enregistre comme ça pour une question de facilité."
   ]
  },
  {
   "cell_type": "code",
   "execution_count": 2,
   "metadata": {
    "collapsed": true
   },
   "outputs": [],
   "source": [
    "def myWriteCSV(aFullFileName,aListeResultats):\n",
    "#Inputs : aFullFileName - nom du fichier à créer avec le full path\n",
    "#       : aListeResults - liste avec les numeros à ecrire\n",
    "    \n",
    "    with open(aFullFileName, 'w') as output:\n",
    "        [output.write(str(x) + \"\\n\") for x in aListeResultats]\n",
    "    output.close()"
   ]
  },
  {
   "cell_type": "markdown",
   "metadata": {},
   "source": [
    "#### Routine myLoadImage \n",
    "pour lire les images qui composent la video et retouner une liste."
   ]
  },
  {
   "cell_type": "code",
   "execution_count": 3,
   "metadata": {
    "collapsed": true
   },
   "outputs": [],
   "source": [
    "def myLoadImage(aFullPath,aFileName,aTypeColor='gris',abreak=None):\n",
    "#Inputs : aFullPath - full path\n",
    "#       : aFileName - nom du fichier qui contient les images à lire\n",
    "#       : aTypeColor - type de structure de couleur souhaité (RGB,HSV ou gris)\n",
    "#       : abreak - limite maximale d'images à extraire\n",
    "#Output : lDecomposition - liste avec 3 dimensions (dimX, dimY, 3 channels pour la couleur)\n",
    "#Modif  : Costa 5/4/2019 - correction de l'extraction en gris pour avoir 1 seul channel\n",
    "\n",
    "    lDecomposition=[]\n",
    "    lcount=1\n",
    "    f = open(aFullPath + aFileName, 'rt')\n",
    "    \n",
    "    #ecrit comme ça pour minimiser des calculs/evaluations au sein d'une boucle\n",
    "    if aTypeColor == 'RGB':\n",
    "        for line in f:\n",
    "           lDecomposition.append(cv2.imread(aFullPath+line.split()[0]))\n",
    "           lcount+=1\n",
    "           if lcount == abreak:\n",
    "               break\n",
    "    \n",
    "    if aTypeColor =='HSV':\n",
    "        for line in f:\n",
    "           lDecomposition.append(cv2.imread(aFullPath+line.split()[0],cv2.COLOR_BGR2HSV))\n",
    "           lcount+=1\n",
    "           if lcount == abreak:\n",
    "               break\n",
    "         \n",
    "    if aTypeColor =='gris':\n",
    "        for line in f:\n",
    "           lIm=cv2.imread(aFullPath+line.split()[0])\n",
    "           lDecomposition.append(cv2.cvtColor(lIm,cv2.COLOR_BGR2GRAY))\n",
    "           lcount+=1\n",
    "           if lcount == abreak:\n",
    "               break\n",
    "  \n",
    "    f.close()\n",
    "    return lDecomposition\n"
   ]
  },
  {
   "cell_type": "markdown",
   "metadata": {},
   "source": [
    "#### Routine myEvaluation \n",
    "pour calculer la precision et recall par rapport au gold standart. Je l'ai crée à partir des anotations et je l'ai complété manuellement avec l'intro."
   ]
  },
  {
   "cell_type": "code",
   "execution_count": 4,
   "metadata": {
    "collapsed": true
   },
   "outputs": [],
   "source": [
    "def myEvaluation(aRep,aListeResultats):\n",
    "#Inputs : aRep - full path\n",
    "#       : aListeResultats - liste generique avec 1 seule dimension qui contient notre prediction\n",
    "#Output : precision et recall\n",
    "\n",
    "    #lecture\n",
    "    GoldList=[]\n",
    "    with open(aRep + 'goldResult_5fps.csv', encoding=\"utf-8\") as f:\n",
    "        for line in f:\n",
    "            GoldList.append(int(line)) \n",
    "    f.close\n",
    "    \n",
    "    #initialisation\n",
    "    true_pos = 0\n",
    "    false_pos = 0\n",
    "    false_neg = 0\n",
    "    \n",
    "    #evaluation\n",
    "    for key in aListeResultats:\n",
    "        if key in GoldList:\n",
    "            true_pos += 1\n",
    "        else:\n",
    "            false_pos += 1\n",
    "    \n",
    "    for key in GoldList:\n",
    "        if key not in aListeResultats:\n",
    "            false_neg += 1\n",
    "    \n",
    "    #calcul indicateurs\n",
    "    if true_pos + false_pos != 0:\n",
    "        precision = float(true_pos) / (true_pos + false_pos) * 100.0\n",
    "    else:\n",
    "        precision = 0.0\n",
    "    \n",
    "    if true_pos + false_neg != 0:\n",
    "        recall = float(true_pos) / (true_pos + false_neg + false_pos) * 100.0\n",
    "    else:\n",
    "        recall = 0.0\n",
    "        \n",
    "    return precision, recall"
   ]
  },
  {
   "cell_type": "markdown",
   "metadata": {},
   "source": [
    "#### Routine myLissage \n",
    "pour lisser l'image et ainsi reduire le bruit"
   ]
  },
  {
   "cell_type": "code",
   "execution_count": 5,
   "metadata": {
    "collapsed": true
   },
   "outputs": [],
   "source": [
    "def myLissage(aList,aNbImagesLissage=3):\n",
    "#Inputs : aList - liste generique avec 1 seule dimension qui contient notre prediction\n",
    "#       : aNbImagesLissage - sur combien d'images on realise la moyenne\n",
    "#Output : ListLisse - nouvelle liste avec le lissage\n",
    "    \n",
    "    #utiliser nombre impair\n",
    "    ListLisse=[]\n",
    "    \n",
    "    #first images\n",
    "    for i in range(0,int((aNbImagesLissage-1)/2)):\n",
    "        ListLisse.append(aList[i]) \n",
    "    \n",
    "    for i in range(1,len(aList)-int((aNbImagesLissage-1)/2)):\n",
    "        valeur=0.0    \n",
    "        for j in range(int(-(aNbImagesLissage-1)/2),int((aNbImagesLissage-1)/2+1)):\n",
    "            valeur+=aList[i+j]\n",
    "        ListLisse.append(valeur/aNbImagesLissage)\n",
    "    \n",
    "    #last images\n",
    "    for i in range(-int((aNbImagesLissage-1)/2),0):\n",
    "        ListLisse.append(aList[i]) \n",
    "\n",
    "    return ListLisse"
   ]
  },
  {
   "cell_type": "markdown",
   "metadata": {},
   "source": [
    "#### Routine myCutOff\n",
    "pour selectionner les images à partir d'un seuil (cutoff)"
   ]
  },
  {
   "cell_type": "code",
   "execution_count": 6,
   "metadata": {
    "collapsed": true
   },
   "outputs": [],
   "source": [
    "def myCutOff(aCutOff,aList):\n",
    "#Inputs : aCutoff - entier avec le niveau de seuil\n",
    "#       : aList - liste generique avec 1 seule dimension qui contient un des traiments\n",
    "#Output : lResult - liste avec les images qui ont été selectionées\n",
    "  \n",
    "    lResult=[]\n",
    "    for i in range(len(aList)):\n",
    "        if abs(aList[i]) > aCutOff:\n",
    "            lResult.append(i)\n",
    "    return lResult"
   ]
  },
  {
   "cell_type": "markdown",
   "metadata": {},
   "source": [
    "#### Routine myDivideBlocks\n",
    "pour decomposer l'image en blocks"
   ]
  },
  {
   "cell_type": "code",
   "execution_count": 7,
   "metadata": {
    "collapsed": true
   },
   "outputs": [],
   "source": [
    "def myDivideBlocks(aNbBlocks,aImage):\n",
    "#Inputs : aNbBlocks - entier avec une dimension du carré (nb blocks=x^2)\n",
    "#       : aImage - image à decouper avec 1 seul channel\n",
    "#Output : liste_block_frame - liste avec les X blocks\n",
    "  \n",
    "    (dimYpix, dimXpix) = aImage.shape\n",
    "\n",
    "    dimYpixBlock=int(dimYpix/aNbBlocks)\n",
    "    dimXpixBlock=int(dimXpix/aNbBlocks)    \n",
    "    \n",
    "    liste_block_frame=[]\n",
    "    for bl in range(0,nbBlocks**2) : liste_block_frame.append(aImage\n",
    "                   [(bl//nbBlocks)*dimYpixBlock : (bl//nbBlocks+1)*dimYpixBlock,\n",
    "                    (bl%nbBlocks)*dimXpixBlock :(bl%nbBlocks+1)*dimXpixBlock])\n",
    "\n",
    "    return liste_block_frame"
   ]
  },
  {
   "cell_type": "markdown",
   "metadata": {},
   "source": [
    "# Modelisation"
   ]
  },
  {
   "cell_type": "code",
   "execution_count": 10,
   "metadata": {},
   "outputs": [],
   "source": [
    "#Gestion des paths pour garantir que ça ne pete pas.\n",
    "#Si vous saviez faire ça correctement, merci de partager l'info\n",
    "\n",
    "#path = r\"C:\\Users\\vicks\\Documents\\Ecole\\Multimedia\\data\\\\\"\n",
    "#RepCode=r\"C:\\Users\\vicks\\Documents\\Ecole\\Multimedia\\evasion\\\\\"\n",
    "\n",
    "path = r\"C:\\Users\\costav\\Documents\\big data\\Ecole\\Multimedia\\data5FPS\\\\\"\n",
    "RepCode=r\"C:\\Users\\costav\\Documents\\big data\\Ecole\\Multimedia\\evasion\\\\\"\n",
    "try:\n",
    "    os.chdir(path)\n",
    "    RepImages=(path)\n",
    "except:\n",
    "    path = r\"E:\\Dropbox\\CES DAta sciences\\Cours\\Module 4\\Projet\\data\\\\\"\n",
    "    RepCode = r\"E:\\Dropbox\\CES DAta sciences\\Cours\\Module 4\\Projet\\evasion\\\\\"\n",
    "    os.chdir(path)\n",
    "    RepImages=(path)"
   ]
  },
  {
   "cell_type": "markdown",
   "metadata": {},
   "source": [
    "## Le gris"
   ]
  },
  {
   "cell_type": "code",
   "execution_count": 11,
   "metadata": {
    "collapsed": true
   },
   "outputs": [],
   "source": [
    "#load\n",
    "dbgris = myLoadImage(RepImages,'list.txt','gris')\n",
    "NbImages=len(dbgris)"
   ]
  },
  {
   "cell_type": "code",
   "execution_count": 12,
   "metadata": {},
   "outputs": [
    {
     "data": {
      "image/png": "[encoded data removed]",
      "text/plain": [
       "<matplotlib.figure.Figure at 0x186ebc00a20>"
      ]
     },
     "metadata": {},
     "output_type": "display_data"
    }
   ],
   "source": [
    "#traitement 1 : la moyenne\n",
    "niv_gris_avg =[np.mean(x) for x in dbgris]\n",
    "mGris=niv_gris_avg\n",
    "\n",
    "#lissage de la moyenne (utiliser nombre impair) -> pas une bonne iddée\n",
    "#niv_gris_avg_liss=myLissage(niv_gris_avg,3)\n",
    "#mGris=niv_gris_avg_liss\n",
    "\n",
    "#visu\n",
    "plt.axis([0, 500, 0, 300])\n",
    "plt.title('Niveaux de gris')\n",
    "plt.plot(niv_gris_avg)\n",
    "#plt.plot(niv_gris_avg_liss)\n",
    "plt.show()"
   ]
  },
  {
   "cell_type": "code",
   "execution_count": 13,
   "metadata": {},
   "outputs": [
    {
     "data": {
      "image/png": "[encoded data removed]",
      "text/plain": [
       "<matplotlib.figure.Figure at 0x186ecf4f7f0>"
      ]
     },
     "metadata": {},
     "output_type": "display_data"
    }
   ],
   "source": [
    "#histogramme\n",
    "plt.hist(niv_gris_avg,64)  # 64 tranches\n",
    "#plt.hist(niv_gris_avg_liss,200)\n",
    "plt.title('Histograme du niveau de gris')\n",
    "plt.axis([100, 180, 0, 800])\n",
    "plt.show()"
   ]
  },
  {
   "cell_type": "code",
   "execution_count": 14,
   "metadata": {
    "collapsed": true
   },
   "outputs": [],
   "source": [
    "#calcul de la derivé (en pratique, c'est juste la difference)\n",
    "derive_niv_gris_avg=[]\n",
    "derive_niv_gris_avg.append(0) #fist element\n",
    "for i in range(1,NbImages-1):\n",
    "    derive_niv_gris_avg.append(niv_gris_avg[i]-niv_gris_avg[i-1])\n",
    "derive_niv_gris_avg.append(0) #last element"
   ]
  },
  {
   "cell_type": "code",
   "execution_count": 15,
   "metadata": {},
   "outputs": [
    {
     "data": {
      "image/png": "[encoded data removed]",
      "text/plain": [
       "<matplotlib.figure.Figure at 0x186ecda2470>"
      ]
     },
     "metadata": {},
     "output_type": "display_data"
    },
    {
     "data": {
      "image/png": "[encoded data removed]",
      "text/plain": [
       "<matplotlib.figure.Figure at 0x186ed352ef0>"
      ]
     },
     "metadata": {},
     "output_type": "display_data"
    }
   ],
   "source": [
    "#graphs\n",
    "#plt.axis([0, NbImages, -40, 40])\n",
    "plt.axis([0, 500, -40, 40])\n",
    "plt.title('Diff niveaux de gris')\n",
    "plt.plot(derive_niv_gris_avg)\n",
    "plt.show()\n",
    "\n",
    "#histogramme\n",
    "plt.hist(derive_niv_gris_avg,200)\n",
    "plt.title('Histograme du diff niveau de gris')\n",
    "plt.axis([-30, 30, 0, 150])\n",
    "plt.show()"
   ]
  },
  {
   "cell_type": "markdown",
   "metadata": {},
   "source": [
    "Ce dernier histogramme montre que un seuil entre 20 et 30 doit le faire (lire sur l'axe des Y). On veut seuiller où les diffs sont grands.\n",
    "\n",
    "Alons tester 20."
   ]
  },
  {
   "cell_type": "code",
   "execution_count": 16,
   "metadata": {},
   "outputs": [
    {
     "name": "stdout",
     "output_type": "stream",
     "text": [
      "5.88235294117647\n",
      "0.1890359168241966\n"
     ]
    }
   ],
   "source": [
    "myResult=myCutOff(6,derive_niv_gris_avg)\n",
    "precision, recall = myEvaluation(RepCode,myResult)\n",
    "print(precision)\n",
    "print(recall)"
   ]
  },
  {
   "cell_type": "markdown",
   "metadata": {},
   "source": [
    "Faisons ça en automatique."
   ]
  },
  {
   "cell_type": "code",
   "execution_count": 17,
   "metadata": {},
   "outputs": [
    {
     "data": {
      "image/png": "[encoded data removed]",
      "text/plain": [
       "<matplotlib.figure.Figure at 0x186ed458780>"
      ]
     },
     "metadata": {},
     "output_type": "display_data"
    },
    {
     "name": "stdout",
     "output_type": "stream",
     "text": [
      "Best seuil : 0\n",
      "Precision of best recall:  6.0\n",
      "Best Recall: 0.5357142857142857\n"
     ]
    }
   ],
   "source": [
    "liste_precision=[]\n",
    "liste_recall=[]\n",
    "liste_myResult=[]\n",
    "liste_NbDetections=[]\n",
    "\n",
    "for i in range(1,35): #teste entre 1 et 50 en seuille\n",
    "    liste_myResult=myCutOff(i,derive_niv_gris_avg)\n",
    "    \n",
    "    lprecision, lrecall = myEvaluation(RepCode,liste_myResult)\n",
    "    liste_precision.append(lprecision)\n",
    "    liste_recall.append(lrecall)\n",
    "    liste_NbDetections.append(len(liste_myResult))\n",
    "    \n",
    "#visu\n",
    "plt.axis([0, len(liste_recall), 0, max(liste_precision)+5])\n",
    "plt.title('Variation des indicateurs avec le cutoff')\n",
    "plt.plot(liste_precision)\n",
    "plt.plot(liste_recall)\n",
    "plt.show()\n",
    "\n",
    "#max\n",
    "CutoffOptimal=liste_recall.index(max(liste_recall))\n",
    "print('Best seuil :',CutoffOptimal)\n",
    "print('Precision of best recall: ' , liste_precision[CutoffOptimal])\n",
    "print('Best Recall:',max(liste_recall))"
   ]
  },
  {
   "cell_type": "code",
   "execution_count": 18,
   "metadata": {},
   "outputs": [
    {
     "data": {
      "image/png": "[encoded data removed]",
      "text/plain": [
       "<matplotlib.figure.Figure at 0x186ed301400>"
      ]
     },
     "metadata": {},
     "output_type": "display_data"
    }
   ],
   "source": [
    "#visu\n",
    "plt.axis([0, len(liste_precision), 0, max(liste_NbDetections)])\n",
    "plt.title('Nombre de detections')\n",
    "plt.plot(liste_NbDetections)\n",
    "plt.show()"
   ]
  },
  {
   "cell_type": "markdown",
   "metadata": {},
   "source": [
    "Alons simuler et enregistrer pour le voir avec l'outil excel myTreatment.xlsm :"
   ]
  },
  {
   "cell_type": "code",
   "execution_count": 19,
   "metadata": {},
   "outputs": [
    {
     "name": "stdout",
     "output_type": "stream",
     "text": [
      "3.225806451612903 0.1841620626151013\n"
     ]
    }
   ],
   "source": [
    "myResult=myCutOff(2,derive_niv_gris_avg)\n",
    "precision, recall = myEvaluation(RepCode,myResult)\n",
    "print (precision, recall)"
   ]
  },
  {
   "cell_type": "code",
   "execution_count": 20,
   "metadata": {
    "collapsed": true
   },
   "outputs": [],
   "source": [
    "myWriteCSV(RepCode+'myResult.csv',myResult)  #ne pas changer le nom"
   ]
  },
  {
   "cell_type": "markdown",
   "metadata": {},
   "source": [
    "## Le Rouge"
   ]
  },
  {
   "cell_type": "code",
   "execution_count": 21,
   "metadata": {
    "collapsed": true
   },
   "outputs": [],
   "source": [
    "#load\n",
    "dbRGB = myLoadImage(RepImages,'list.txt','RGB')\n",
    "dbRed=[]\n",
    "dbBlue=[]\n",
    "dbGreen=[]\n",
    "\n",
    "for i in range(0,len(dbRGB)):\n",
    "    (lBlue, lGreen, lRed) = cv2.split(dbRGB[i])\n",
    "    dbBlue.append(lBlue)    \n",
    "    dbGreen.append(lGreen)\n",
    "    dbRed.append(lRed)"
   ]
  },
  {
   "cell_type": "code",
   "execution_count": 22,
   "metadata": {},
   "outputs": [
    {
     "data": {
      "image/png": "[encoded data removed]",
      "text/plain": [
       "<matplotlib.figure.Figure at 0x186ed741630>"
      ]
     },
     "metadata": {},
     "output_type": "display_data"
    }
   ],
   "source": [
    "#traitement 1 : la moyenne\n",
    "niv_channel_avg =[np.mean(x) for x in dbRed]\n",
    "\n",
    "#lissage de la moyenne (utiliser nombre impair)\n",
    "#niv_channel_avg_liss=myLissage(niv_channel_avg,3)\n",
    "\n",
    "mR=niv_channel_avg\n",
    "\n",
    "#visu\n",
    "plt.axis([0, 500, 0, 170])\n",
    "plt.title('Niveaux de gris')\n",
    "plt.plot(niv_channel_avg)\n",
    "#plt.plot(niv_channel_avg_liss)\n",
    "plt.show()"
   ]
  },
  {
   "cell_type": "code",
   "execution_count": 23,
   "metadata": {},
   "outputs": [
    {
     "data": {
      "image/png": "[encoded data removed]",
      "text/plain": [
       "<matplotlib.figure.Figure at 0x186f08615c0>"
      ]
     },
     "metadata": {},
     "output_type": "display_data"
    }
   ],
   "source": [
    "#histogramme\n",
    "plt.hist(niv_channel_avg,200)  # 200 tranches\n",
    "#plt.hist(niv_channel_avg_liss,200)\n",
    "plt.title('Histograme du niveau de rouge')\n",
    "plt.axis([110, 150, 0, 250])\n",
    "plt.show()"
   ]
  },
  {
   "cell_type": "code",
   "execution_count": 24,
   "metadata": {
    "collapsed": true
   },
   "outputs": [],
   "source": [
    "#calcul de la derivé (en pratique, c'est juste la difference)\n",
    "derive_channel=[]\n",
    "derive_channel.append(0) #fist element\n",
    "for i in range(1,len(niv_channel_avg)-1):\n",
    "    derive_channel.append(niv_channel_avg[i]-niv_channel_avg[i-1])\n",
    "derive_channel.append(0) #last element"
   ]
  },
  {
   "cell_type": "code",
   "execution_count": 25,
   "metadata": {},
   "outputs": [
    {
     "data": {
      "image/png": "[encoded data removed]",
      "text/plain": [
       "<matplotlib.figure.Figure at 0x186ed545b00>"
      ]
     },
     "metadata": {},
     "output_type": "display_data"
    },
    {
     "data": {
      "image/png": "[encoded data removed]",
      "text/plain": [
       "<matplotlib.figure.Figure at 0x186ed394f98>"
      ]
     },
     "metadata": {},
     "output_type": "display_data"
    }
   ],
   "source": [
    "#graphs\n",
    "plt.axis([0, NbImages, -35, 35])\n",
    "plt.title('Diff niveaux de rouge')\n",
    "plt.plot(derive_channel)\n",
    "plt.show()\n",
    "\n",
    "#histogramme\n",
    "plt.hist(derive_channel,200)\n",
    "plt.title('Histograme du diff niveau de rouge')\n",
    "plt.axis([-30, 30, 0, 100])\n",
    "plt.show()"
   ]
  },
  {
   "cell_type": "code",
   "execution_count": 26,
   "metadata": {},
   "outputs": [
    {
     "name": "stdout",
     "output_type": "stream",
     "text": [
      "7.6923076923076925\n",
      "0.19047619047619047\n"
     ]
    }
   ],
   "source": [
    "myResult=myCutOff(10,derive_channel)\n",
    "precision, recall = myEvaluation(RepCode,myResult)\n",
    "print(precision)\n",
    "print(recall)"
   ]
  },
  {
   "cell_type": "markdown",
   "metadata": {},
   "source": [
    "Faisons ça en automatique."
   ]
  },
  {
   "cell_type": "code",
   "execution_count": 27,
   "metadata": {},
   "outputs": [
    {
     "data": {
      "image/png": "[encoded data removed]",
      "text/plain": [
       "<matplotlib.figure.Figure at 0x186ed7413c8>"
      ]
     },
     "metadata": {},
     "output_type": "display_data"
    },
    {
     "name": "stdout",
     "output_type": "stream",
     "text": [
      "Best seuil : 0\n",
      "Precision of best recall:  6.521739130434782\n",
      "Best Recall: 0.539568345323741\n"
     ]
    }
   ],
   "source": [
    "liste_precision=[]\n",
    "liste_recall=[]\n",
    "liste_myResult=[]\n",
    "\n",
    "for i in range(1,50): #teste entre 1 et 50 en seuille\n",
    "    liste_myResult=myCutOff(i,derive_channel)\n",
    "    \n",
    "    lprecision, lrecall = myEvaluation(RepCode,liste_myResult)\n",
    "    liste_precision.append(lprecision)\n",
    "    liste_recall.append(lrecall)\n",
    "    \n",
    "#visu\n",
    "plt.axis([0, len(liste_recall), 0, max(liste_precision)+5])\n",
    "plt.title('Variation des indicateurs avec le cutoff')\n",
    "plt.plot(liste_precision)\n",
    "plt.plot(liste_recall)\n",
    "plt.show()\n",
    "\n",
    "#max\n",
    "CutoffOptimal=liste_recall.index(max(liste_recall))\n",
    "print('Best seuil :',CutoffOptimal)\n",
    "print('Precision of best recall: ' , liste_precision[CutoffOptimal])\n",
    "print('Best Recall:',max(liste_recall))"
   ]
  },
  {
   "cell_type": "markdown",
   "metadata": {},
   "source": [
    "Attention : il faut prendre x+1 car le graphique commence à 0.\n",
    "\n",
    "\n",
    "Alons simuler et enregistrer ce cas pour le voir avec l'outil excel myTreatment.xlsm :"
   ]
  },
  {
   "cell_type": "code",
   "execution_count": 28,
   "metadata": {},
   "outputs": [
    {
     "name": "stdout",
     "output_type": "stream",
     "text": [
      "4.166666666666666 0.18656716417910446\n"
     ]
    }
   ],
   "source": [
    "myResult=myCutOff(3,derive_channel) #x+1\n",
    "precision, recall = myEvaluation(RepCode,myResult)\n",
    "print (precision, recall)"
   ]
  },
  {
   "cell_type": "code",
   "execution_count": 29,
   "metadata": {
    "collapsed": true
   },
   "outputs": [],
   "source": [
    "myWriteCSV(RepCode+'myResult.csv',myResult)  #ne pas changer le nom"
   ]
  },
  {
   "cell_type": "markdown",
   "metadata": {},
   "source": [
    "## Le Vert"
   ]
  },
  {
   "cell_type": "code",
   "execution_count": 30,
   "metadata": {
    "scrolled": true
   },
   "outputs": [
    {
     "data": {
      "image/png": "[encoded data removed]",
      "text/plain": [
       "<matplotlib.figure.Figure at 0x186ed688518>"
      ]
     },
     "metadata": {},
     "output_type": "display_data"
    },
    {
     "name": "stdout",
     "output_type": "stream",
     "text": [
      "Best seuil : 0\n",
      "Precision of best recall:  5.88235294117647\n",
      "Best Recall: 0.53475935828877\n"
     ]
    }
   ],
   "source": [
    "#traitement 1 : la moyenne\n",
    "niv_channel_avg =[np.mean(x) for x in dbGreen]\n",
    "\n",
    "#lissage de la moyenne (utiliser nombre impair)\n",
    "#niv_channel_avg_liss=myLissage(niv_channel_avg,3)\n",
    "mG=niv_channel_avg\n",
    "\n",
    "#calcul de la derivé (en pratique, c'est juste la difference)\n",
    "derive_channel=[]\n",
    "derive_channel.append(0) #fist element\n",
    "for i in range(1,len(niv_channel_avg)-1):\n",
    "    derive_channel.append(niv_channel_avg[i]-niv_channel_avg[i-1])\n",
    "derive_channel.append(0) #last element\n",
    "\n",
    "#evaluation automatique\n",
    "liste_precision=[]\n",
    "liste_recall=[]\n",
    "liste_myResult=[]\n",
    "\n",
    "for i in range(1,50): #teste entre 1 et 50 en seuil\n",
    "    liste_myResult=myCutOff(i,derive_channel)\n",
    "    lprecision, lrecall = myEvaluation(RepCode,liste_myResult)\n",
    "    liste_precision.append(lprecision)\n",
    "    liste_recall.append(lrecall)\n",
    "    \n",
    "#visu\n",
    "plt.axis([0, len(liste_precision), 0, \n",
    "          max(max(liste_precision),max(liste_recall))])\n",
    "plt.title('Variation des indicateurs avec le cutoff')\n",
    "plt.plot(liste_precision)\n",
    "plt.plot(liste_recall)\n",
    "plt.show()\n",
    "\n",
    "#max\n",
    "CutoffOptimal=liste_recall.index(max(liste_recall))\n",
    "print('Best seuil :',CutoffOptimal)\n",
    "print('Precision of best recall: ' , liste_precision[CutoffOptimal])\n",
    "print('Best Recall:',max(liste_recall))"
   ]
  },
  {
   "cell_type": "code",
   "execution_count": 31,
   "metadata": {},
   "outputs": [
    {
     "name": "stdout",
     "output_type": "stream",
     "text": [
      "4.3478260869565215 0.1869158878504673\n"
     ]
    }
   ],
   "source": [
    "myResult=myCutOff(3,derive_channel) #x+1\n",
    "precision, recall = myEvaluation(RepCode,myResult)\n",
    "print (precision, recall)\n",
    "\n",
    "myWriteCSV(RepCode+'myResult.csv',myResult)  #ne pas changer le nom"
   ]
  },
  {
   "cell_type": "markdown",
   "metadata": {},
   "source": [
    "## Le Blue"
   ]
  },
  {
   "cell_type": "code",
   "execution_count": 32,
   "metadata": {
    "scrolled": true
   },
   "outputs": [
    {
     "data": {
      "image/png": "[encoded data removed]",
      "text/plain": [
       "<matplotlib.figure.Figure at 0x186ed502be0>"
      ]
     },
     "metadata": {},
     "output_type": "display_data"
    },
    {
     "name": "stdout",
     "output_type": "stream",
     "text": [
      "Best seuil : 0\n",
      "Precision of best recall:  6.25\n",
      "Best Recall: 0.5376344086021506\n"
     ]
    }
   ],
   "source": [
    "#traitement 1 : la moyenne\n",
    "niv_channel_avg =[np.mean(x) for x in dbBlue]\n",
    "\n",
    "#lissage de la moyenne (utiliser nombre impair)\n",
    "#niv_channel_avg_liss=myLissage(niv_channel_avg,3)\n",
    "mB=niv_channel_avg\n",
    "\n",
    "#calcul de la derivé (en pratique, c'est juste la difference)\n",
    "derive_channel=[]\n",
    "derive_channel.append(0) #fist element\n",
    "for i in range(1,len(niv_channel_avg)-1):\n",
    "    derive_channel.append(niv_channel_avg[i]-niv_channel_avg[i-1])\n",
    "derive_channel.append(0) #last element\n",
    "\n",
    "#evaluation automatique\n",
    "liste_precision=[]\n",
    "liste_recall=[]\n",
    "liste_myResult=[]\n",
    "\n",
    "for i in range(1,50): #teste entre 1 et 50 en seuil\n",
    "    liste_myResult=myCutOff(i,derive_channel)\n",
    "    \n",
    "    lprecision, lrecall = myEvaluation(RepCode,liste_myResult)\n",
    "    liste_precision.append(lprecision)\n",
    "    liste_recall.append(lrecall)\n",
    "    \n",
    "#visu\n",
    "plt.axis([0, len(liste_precision), 0, \n",
    "          max(max(liste_precision),max(liste_recall))])\n",
    "plt.title('Variation des indicateurs avec le cutoff')\n",
    "plt.plot(liste_precision)\n",
    "plt.plot(liste_recall)\n",
    "plt.show()\n",
    "\n",
    "#max\n",
    "CutoffOptimal=liste_recall.index(max(liste_recall))\n",
    "print('Best seuil :',CutoffOptimal)\n",
    "print('Precision of best recall: ' , liste_precision[CutoffOptimal])\n",
    "print('Best Recall:',max(liste_recall))"
   ]
  },
  {
   "cell_type": "code",
   "execution_count": 33,
   "metadata": {},
   "outputs": [
    {
     "name": "stdout",
     "output_type": "stream",
     "text": [
      "5.0 0.18796992481203006\n"
     ]
    }
   ],
   "source": [
    "myResult=myCutOff(3,derive_channel) #x+1\n",
    "precision, recall = myEvaluation(RepCode,myResult)\n",
    "print (precision, recall)\n",
    "\n",
    "myWriteCSV(RepCode+'myResult.csv',myResult)  #ne pas changer le nom"
   ]
  },
  {
   "cell_type": "markdown",
   "metadata": {},
   "source": [
    "## Le Hue (en HSV)"
   ]
  },
  {
   "cell_type": "code",
   "execution_count": 34,
   "metadata": {
    "collapsed": true
   },
   "outputs": [],
   "source": [
    "#load\n",
    "dbHSV = myLoadImage(RepImages,'list.txt','HSV')\n",
    "dbH=[]\n",
    "dbS=[]\n",
    "dbV=[]\n",
    "\n",
    "for i in range(0,len(dbHSV)):\n",
    "    (lH, lS, lV) = cv2.split(dbHSV[i])\n",
    "    dbH.append(lH)    \n",
    "    dbS.append(lS)\n",
    "    dbV.append(lV)"
   ]
  },
  {
   "cell_type": "code",
   "execution_count": 35,
   "metadata": {},
   "outputs": [
    {
     "data": {
      "image/png": "[encoded data removed]",
      "text/plain": [
       "<matplotlib.figure.Figure at 0x186ed6ac860>"
      ]
     },
     "metadata": {},
     "output_type": "display_data"
    }
   ],
   "source": [
    "#traitement 1 : la moyenne\n",
    "niv_channel_avg =[np.mean(x) for x in dbH]\n",
    "\n",
    "#lissage de la moyenne (utiliser nombre impair)\n",
    "#niv_channel_avg_liss=myLissage(niv_channel_avg,3)\n",
    "mH=niv_channel_avg\n",
    "\n",
    "#visu\n",
    "plt.axis([0, NbImages, 0, 200])\n",
    "plt.title('Niveaux de H')\n",
    "plt.plot(niv_channel_avg)\n",
    "#plt.plot(niv_channel_avg_liss)\n",
    "plt.show()"
   ]
  },
  {
   "cell_type": "code",
   "execution_count": 36,
   "metadata": {},
   "outputs": [
    {
     "data": {
      "image/png": "[encoded data removed]",
      "text/plain": [
       "<matplotlib.figure.Figure at 0x186ecddbe10>"
      ]
     },
     "metadata": {},
     "output_type": "display_data"
    }
   ],
   "source": [
    "#histogramme à 200 tranches\n",
    "plt.hist(niv_channel_avg,200)  \n",
    "plt.title('Histograme du niveau de H')\n",
    "plt.axis([130, 180, 0, 250])\n",
    "plt.show()"
   ]
  },
  {
   "cell_type": "code",
   "execution_count": 37,
   "metadata": {
    "collapsed": true
   },
   "outputs": [],
   "source": [
    "#calcul de la derivé (en pratique, c'est juste la difference)\n",
    "derive_channel=[]\n",
    "derive_channel.append(0) #fist element\n",
    "for i in range(1,len(niv_channel_avg)-1):\n",
    "    derive_channel.append(niv_channel_avg[i]-niv_channel_avg[i-1])\n",
    "derive_channel.append(0) #last element"
   ]
  },
  {
   "cell_type": "code",
   "execution_count": 38,
   "metadata": {},
   "outputs": [
    {
     "data": {
      "image/png": "[encoded data removed]",
      "text/plain": [
       "<matplotlib.figure.Figure at 0x186ed8457f0>"
      ]
     },
     "metadata": {},
     "output_type": "display_data"
    },
    {
     "data": {
      "image/png": "[encoded data removed]",
      "text/plain": [
       "<matplotlib.figure.Figure at 0x186f088ff98>"
      ]
     },
     "metadata": {},
     "output_type": "display_data"
    }
   ],
   "source": [
    "#graphs\n",
    "plt.axis([0, NbImages, -35, 35])\n",
    "plt.title('Diff niveaux de Hue')\n",
    "plt.plot(derive_channel)\n",
    "plt.show()\n",
    "\n",
    "#histogramme\n",
    "plt.hist(derive_channel,200)\n",
    "plt.title('Histograme du diff niveau de Hue')\n",
    "plt.axis([-20, 20, 0, 150])\n",
    "plt.show()"
   ]
  },
  {
   "cell_type": "code",
   "execution_count": 39,
   "metadata": {},
   "outputs": [
    {
     "name": "stdout",
     "output_type": "stream",
     "text": [
      "10.0\n",
      "0.19157088122605362\n"
     ]
    }
   ],
   "source": [
    "myResult=myCutOff(10,derive_channel)\n",
    "precision, recall = myEvaluation(RepCode,myResult)\n",
    "print(precision)\n",
    "print(recall)"
   ]
  },
  {
   "cell_type": "markdown",
   "metadata": {},
   "source": [
    "Faisons ça en automatique."
   ]
  },
  {
   "cell_type": "code",
   "execution_count": 40,
   "metadata": {},
   "outputs": [
    {
     "data": {
      "image/png": "[encoded data removed]",
      "text/plain": [
       "<matplotlib.figure.Figure at 0x186f0864588>"
      ]
     },
     "metadata": {},
     "output_type": "display_data"
    },
    {
     "name": "stdout",
     "output_type": "stream",
     "text": [
      "Best seuil : 0\n",
      "Precision of best recall:  6.122448979591836\n",
      "Best Recall: 0.5366726296958855\n"
     ]
    }
   ],
   "source": [
    "liste_precision=[]\n",
    "liste_recall=[]\n",
    "liste_myResult=[]\n",
    "\n",
    "for i in range(1,50): #teste entre 1 et 50 en seuil\n",
    "    liste_myResult=myCutOff(i,derive_channel)\n",
    "    \n",
    "    lprecision, lrecall = myEvaluation(RepCode,liste_myResult)\n",
    "    liste_precision.append(lprecision)\n",
    "    liste_recall.append(lrecall)\n",
    "    \n",
    "#visu\n",
    "plt.axis([0, len(liste_precision), 0, \n",
    "          max(max(liste_precision),max(liste_recall))])\n",
    "plt.title('Variation des indicateurs avec le cutoff')\n",
    "plt.plot(liste_precision)\n",
    "plt.plot(liste_recall)\n",
    "plt.show()\n",
    "\n",
    "#max\n",
    "CutoffOptimal=liste_recall.index(max(liste_recall))\n",
    "print('Best seuil :',CutoffOptimal)\n",
    "print('Precision of best recall: ' , liste_precision[CutoffOptimal])\n",
    "print('Best Recall:',max(liste_recall))"
   ]
  },
  {
   "cell_type": "markdown",
   "metadata": {},
   "source": [
    "Attention : il faut prendre x+1 car le graphique commence à 0.\n",
    "\n",
    "\n",
    "Alons simuler et enregistrer ce cas pour le voir avec l'outil excel myTreatment.xlsm :"
   ]
  },
  {
   "cell_type": "code",
   "execution_count": 41,
   "metadata": {},
   "outputs": [
    {
     "name": "stdout",
     "output_type": "stream",
     "text": [
      "4.761904761904762 0.18761726078799248\n"
     ]
    }
   ],
   "source": [
    "myResult=myCutOff(3,derive_channel) #x+1\n",
    "precision, recall = myEvaluation(RepCode,myResult)\n",
    "print (precision, recall)"
   ]
  },
  {
   "cell_type": "code",
   "execution_count": 42,
   "metadata": {
    "collapsed": true
   },
   "outputs": [],
   "source": [
    "myWriteCSV(RepCode+'myResult.csv',myResult)  #ne pas changer le nom"
   ]
  },
  {
   "cell_type": "markdown",
   "metadata": {},
   "source": [
    "## Le S de HSV"
   ]
  },
  {
   "cell_type": "code",
   "execution_count": 43,
   "metadata": {
    "scrolled": true
   },
   "outputs": [
    {
     "data": {
      "image/png": "[encoded data removed]",
      "text/plain": [
       "<matplotlib.figure.Figure at 0x186ed4480b8>"
      ]
     },
     "metadata": {},
     "output_type": "display_data"
    },
    {
     "name": "stdout",
     "output_type": "stream",
     "text": [
      "Best seuil : 0\n",
      "Precision of best recall:  6.0\n",
      "Best Recall: 0.5357142857142857\n"
     ]
    }
   ],
   "source": [
    "#traitement 1 : la moyenne\n",
    "niv_channel_avg =[np.mean(x) for x in dbS]\n",
    "\n",
    "#lissage de la moyenne (utiliser nombre impair)\n",
    "#niv_channel_avg_liss=myLissage(niv_channel_avg,3)\n",
    "mS=niv_channel_avg\n",
    "\n",
    "#calcul de la derivé (en pratique, c'est juste la difference)\n",
    "derive_channel=[]\n",
    "derive_channel.append(0) #fist element\n",
    "for i in range(1,len(niv_channel_avg)-1):\n",
    "    derive_channel.append(niv_channel_avg[i]-niv_channel_avg[i-1])\n",
    "derive_channel.append(0) #last element\n",
    "\n",
    "#evaluation automatique\n",
    "liste_precision=[]\n",
    "liste_recall=[]\n",
    "liste_myResult=[]\n",
    "\n",
    "for i in range(1,50): #teste entre 1 et 50 en seuil\n",
    "    liste_myResult=myCutOff(i,derive_channel)\n",
    "    \n",
    "    lprecision, lrecall = myEvaluation(RepCode,liste_myResult)\n",
    "    liste_precision.append(lprecision)\n",
    "    liste_recall.append(lrecall)\n",
    "    \n",
    "#visu\n",
    "plt.axis([0, len(liste_precision), 0, \n",
    "          max(max(liste_precision),max(liste_recall))])\n",
    "plt.title('Variation des indicateurs avec le cutoff')\n",
    "plt.plot(liste_precision)\n",
    "plt.plot(liste_recall)\n",
    "plt.show()\n",
    "\n",
    "#max\n",
    "CutoffOptimal=liste_recall.index(max(liste_recall))\n",
    "print('Best seuil :',CutoffOptimal)\n",
    "print('Precision of best recall: ' , liste_precision[CutoffOptimal])\n",
    "print('Best Recall:',max(liste_recall))"
   ]
  },
  {
   "cell_type": "code",
   "execution_count": 44,
   "metadata": {},
   "outputs": [
    {
     "name": "stdout",
     "output_type": "stream",
     "text": [
      "4.3478260869565215 0.1869158878504673\n"
     ]
    }
   ],
   "source": [
    "myResult=myCutOff(3,derive_channel) #x+1\n",
    "precision, recall = myEvaluation(RepCode,myResult)\n",
    "print (precision, recall)\n",
    "\n",
    "myWriteCSV(RepCode+'myResult.csv',myResult)  #ne pas changer le nom"
   ]
  },
  {
   "cell_type": "markdown",
   "metadata": {},
   "source": [
    "## Le V de HSV"
   ]
  },
  {
   "cell_type": "code",
   "execution_count": 45,
   "metadata": {
    "scrolled": true
   },
   "outputs": [
    {
     "data": {
      "image/png": "[encoded data removed]",
      "text/plain": [
       "<matplotlib.figure.Figure at 0x186ed659cf8>"
      ]
     },
     "metadata": {},
     "output_type": "display_data"
    },
    {
     "name": "stdout",
     "output_type": "stream",
     "text": [
      "Best seuil : 0\n",
      "Precision of best recall:  6.666666666666667\n",
      "Best Recall: 0.5405405405405406\n"
     ]
    }
   ],
   "source": [
    "#traitement 1 : la moyenne\n",
    "niv_channel_avg =[np.mean(x) for x in dbV]\n",
    "\n",
    "#lissage de la moyenne (utiliser nombre impair)\n",
    "#niv_channel_avg=myLissage(niv_channel_avg,3)\n",
    "mV=niv_channel_avg\n",
    "\n",
    "#calcul de la derivé (en pratique, c'est juste la difference)\n",
    "derive_channel=[]\n",
    "derive_channel.append(0) #fist element\n",
    "for i in range(1,len(niv_channel_avg)-1):\n",
    "    derive_channel.append(niv_channel_avg[i]-niv_channel_avg[i-1])\n",
    "derive_channel.append(0) #last element\n",
    "\n",
    "#evaluation automatique\n",
    "liste_precision=[]\n",
    "liste_recall=[]\n",
    "liste_myResult=[]\n",
    "\n",
    "for i in range(1,50): #teste entre 1 et 50 en seuil\n",
    "    liste_myResult=myCutOff(i,derive_channel)\n",
    "    \n",
    "    lprecision, lrecall = myEvaluation(RepCode,liste_myResult)\n",
    "    liste_precision.append(lprecision)\n",
    "    liste_recall.append(lrecall)\n",
    "    \n",
    "#visu\n",
    "plt.axis([0, len(liste_precision), 0, \n",
    "          max(max(liste_precision),max(liste_recall))])\n",
    "plt.title('Variation des indicateurs avec le cutoff')\n",
    "plt.plot(liste_precision)\n",
    "plt.plot(liste_recall)\n",
    "plt.show()\n",
    "\n",
    "#max\n",
    "CutoffOptimal=liste_recall.index(max(liste_recall))\n",
    "print('Best seuil :',CutoffOptimal)\n",
    "print('Precision of best recall: ' , liste_precision[CutoffOptimal])\n",
    "print('Best Recall:',max(liste_recall))"
   ]
  },
  {
   "cell_type": "code",
   "execution_count": 46,
   "metadata": {},
   "outputs": [
    {
     "name": "stdout",
     "output_type": "stream",
     "text": [
      "4.166666666666666 0.18656716417910446\n"
     ]
    }
   ],
   "source": [
    "myResult=myCutOff(3,derive_channel) #x+1\n",
    "precision, recall = myEvaluation(RepCode,myResult)\n",
    "print (precision, recall)\n",
    "\n",
    "myWriteCSV(RepCode+'myResult.csv',myResult)  #ne pas changer le nom"
   ]
  },
  {
   "cell_type": "markdown",
   "metadata": {},
   "source": [
    "### Combinaison des 7 channels (RGBHSVgris)"
   ]
  },
  {
   "cell_type": "code",
   "execution_count": 47,
   "metadata": {
    "collapsed": true
   },
   "outputs": [],
   "source": [
    "#Calcul de la distance euclidienne\n",
    "combi=[mR,mG,mB,mH,mS,mV,mGris]\n",
    "#combi=[mR,mG,mB]\n",
    "\n",
    "liste_distance=[]\n",
    "liste_distance.append(0) #initialisation\n",
    "for i in range(1,NbImages):\n",
    "    ldistance=0.0\n",
    "    for channel in combi:\n",
    "        ldistance+=(channel[i]-channel[i-1])**2\n",
    "    liste_distance.append(math.sqrt(ldistance))"
   ]
  },
  {
   "cell_type": "code",
   "execution_count": 48,
   "metadata": {},
   "outputs": [
    {
     "data": {
      "image/png": "[encoded data removed]",
      "text/plain": [
       "<matplotlib.figure.Figure at 0x186f0864a58>"
      ]
     },
     "metadata": {},
     "output_type": "display_data"
    }
   ],
   "source": [
    "#graphs\n",
    "plt.axis([0, NbImages, 0, 100])\n",
    "plt.title('Diff distances avec 7 channels')\n",
    "plt.plot(liste_distance)\n",
    "plt.show()"
   ]
  },
  {
   "cell_type": "code",
   "execution_count": 49,
   "metadata": {
    "scrolled": true
   },
   "outputs": [
    {
     "data": {
      "image/png": "[encoded data removed]",
      "text/plain": [
       "<matplotlib.figure.Figure at 0x186ed7ca588>"
      ]
     },
     "metadata": {},
     "output_type": "display_data"
    }
   ],
   "source": [
    "#histogramme\n",
    "plt.hist(liste_distance,200)\n",
    "plt.title('Histograme du diff Diff distances avec 7 channels')\n",
    "plt.axis([0, 100, 0, 100])\n",
    "plt.show()"
   ]
  },
  {
   "cell_type": "code",
   "execution_count": 50,
   "metadata": {},
   "outputs": [
    {
     "name": "stdout",
     "output_type": "stream",
     "text": [
      "47\n"
     ]
    }
   ],
   "source": [
    "liste_myResult=myCutOff(3,liste_distance)\n",
    "(lprecision, lrecall) = myEvaluation(RepCode,liste_myResult)\n",
    "print(len(liste_myResult))"
   ]
  },
  {
   "cell_type": "code",
   "execution_count": 51,
   "metadata": {
    "scrolled": true
   },
   "outputs": [
    {
     "data": {
      "image/png": "[encoded data removed]",
      "text/plain": [
       "<matplotlib.figure.Figure at 0x186ed3d6668>"
      ]
     },
     "metadata": {},
     "output_type": "display_data"
    },
    {
     "name": "stdout",
     "output_type": "stream",
     "text": [
      "Best seuil : 1\n",
      "Precision of best recall:  7.142857142857142\n",
      "Best Recall: 0.7079646017699115\n"
     ]
    }
   ],
   "source": [
    "#evaluation automatique\n",
    "liste_precision=[]\n",
    "liste_recall=[]\n",
    "liste_myResult=[]\n",
    "\n",
    "for i in range(1,50): #teste entre 1 et 50 en seuil\n",
    "    liste_myResult=myCutOff(i,liste_distance)\n",
    "    lprecision, lrecall = myEvaluation(RepCode,liste_myResult)\n",
    "    liste_precision.append(lprecision)\n",
    "    liste_recall.append(lrecall)\n",
    "    \n",
    "#visu\n",
    "plt.axis([0, len(liste_precision), 0, \n",
    "          max(max(liste_precision),max(liste_recall))])\n",
    "plt.title('Variation des indicateurs avec le cutoff')\n",
    "plt.plot(liste_precision)\n",
    "plt.plot(liste_recall)\n",
    "plt.show()\n",
    "\n",
    "#max\n",
    "CutoffOptimal=liste_recall.index(max(liste_recall))\n",
    "print('Best seuil :',CutoffOptimal)\n",
    "print('Precision of best recall: ' , liste_precision[CutoffOptimal])\n",
    "print('Best Recall:',max(liste_recall))"
   ]
  },
  {
   "cell_type": "code",
   "execution_count": 52,
   "metadata": {},
   "outputs": [
    {
     "name": "stdout",
     "output_type": "stream",
     "text": [
      "4.761904761904762 0.18761726078799248\n"
     ]
    }
   ],
   "source": [
    "myResult=myCutOff(10,liste_distance) #x+1\n",
    "precision, recall = myEvaluation(RepCode,myResult)\n",
    "print (precision, recall)\n",
    "\n",
    "myWriteCSV(RepCode+'myResult.csv',myResult)  #ne pas changer le nom"
   ]
  },
  {
   "cell_type": "markdown",
   "metadata": {},
   "source": [
    "## Separation en blocks"
   ]
  },
  {
   "cell_type": "code",
   "execution_count": 87,
   "metadata": {
    "collapsed": true
   },
   "outputs": [],
   "source": [
    "nbBlocks=4 #pour 4x4\n",
    "liste_im=myLoadImage(RepImages,'list.txt','gris')\n",
    "\n",
    "liste_block_images=[]\n",
    "for im in range(0,len(liste_im)):\n",
    "    liste_block_images.append(myDivideBlocks(nbBlocks,liste_im[im]))"
   ]
  },
  {
   "cell_type": "code",
   "execution_count": 90,
   "metadata": {},
   "outputs": [
    {
     "name": "stdout",
     "output_type": "stream",
     "text": [
      "erreur : list index out of range\n"
     ]
    }
   ],
   "source": [
    "#Verification par example avec l'image 200\n",
    "try:\n",
    "    plt.figure()\n",
    "    for i in range(0,nbBlocks**2):    \n",
    "        plt.subplot(4,4,i+1)\n",
    "        plt.imshow(liste_block_images[200][i],cmap='gray')\n",
    "except Exception as e:\n",
    "    print('erreur : ' + str(e))"
   ]
  },
  {
   "cell_type": "code",
   "execution_count": 57,
   "metadata": {
    "collapsed": true
   },
   "outputs": [],
   "source": [
    "#calcul de la moyenne de chaque block suivi de lisage\n",
    "\n",
    "#le lissage n'est peut etre pas une bonne idée vu le faible grand pas de temps de l'extraction\n",
    "nb=nbBlocks**2\n",
    "NbImages=len(liste_im)\n",
    "\n",
    "megaliste=[]\n",
    "for iblock in range(nb):\n",
    "    liste=[]\n",
    "    #liste_moyenne_block_lisse_par_image=[]\n",
    "    for im in range(0,NbImages): \n",
    "        liste.append(np.mean(liste_block_images[im][iblock][:,:,]))\n",
    "        #liste_moyenne_block_lisse_par_image=myLissage(liste,3)\n",
    "    #megaliste.append(liste_moyenne_block_lisse_par_image)\n",
    "    megaliste.append(liste)\n",
    "    \n",
    "megalisteGris=megaliste"
   ]
  },
  {
   "cell_type": "code",
   "execution_count": 58,
   "metadata": {},
   "outputs": [],
   "source": [
    "#visu\n",
    "plt.figure()\n",
    "for i in range(nb):    \n",
    "    plt.subplot(4,4,i+1)\n",
    "    plt.xticks([]), plt.yticks([])\n",
    "    plt.axis([0, NbImages, 0, 250])\n",
    "    plt.plot(megaliste[i])"
   ]
  },
  {
   "cell_type": "code",
   "execution_count": 59,
   "metadata": {},
   "outputs": [],
   "source": [
    "#histogrammes\n",
    "plt.figure()\n",
    "for i in range(0,nbBlocks**2):\n",
    "    plt.subplot(4,4,i+1)\n",
    "    plt.hist(megaliste[i],200)  # 200 tranches\n",
    "    plt.xticks([]), plt.yticks([])\n",
    "    plt.axis([0, 250, 0, 100])"
   ]
  },
  {
   "cell_type": "code",
   "execution_count": 60,
   "metadata": {
    "collapsed": true
   },
   "outputs": [],
   "source": [
    "#calcul de la derivé (en pratique, c'est juste la difference)\n",
    "derive_par_block=[]\n",
    "for iblock in range(nb):\n",
    "    derive=[]\n",
    "    derive.append(0)\n",
    "    for im in range(1,NbImages): \n",
    "        derive.append(megaliste[iblock][im]-megaliste[iblock][im-1])\n",
    "    derive_par_block.append(derive)"
   ]
  },
  {
   "cell_type": "code",
   "execution_count": 61,
   "metadata": {},
   "outputs": [],
   "source": [
    "#graphs\n",
    "plt.figure()\n",
    "for i in range(nb):\n",
    "    plt.subplot(4,4,i+1)\n",
    "    plt.xticks([]), plt.yticks([])   \n",
    "    plt.axis([0, NbImages, -150, 150])\n",
    "    plt.plot(derive_par_block[i])"
   ]
  },
  {
   "cell_type": "code",
   "execution_count": 62,
   "metadata": {},
   "outputs": [],
   "source": [
    "#histogramme\n",
    "plt.figure()\n",
    "for i in range(nb):\n",
    "    plt.subplot(4,4,i+1)\n",
    "    plt.xticks([]), plt.yticks([])   \n",
    "    plt.hist(derive_par_block[i],200)\n",
    "    plt.axis([-20, 20, 0, 80])"
   ]
  },
  {
   "cell_type": "code",
   "execution_count": 63,
   "metadata": {},
   "outputs": [
    {
     "name": "stdout",
     "output_type": "stream",
     "text": [
      "4.0\n",
      "0.186219739292365\n"
     ]
    }
   ],
   "source": [
    "seuil1=8\n",
    "seuil2=0.4\n",
    "myResult=[]\n",
    "\n",
    "for im in range(len(liste_im)): \n",
    "    blockcounteur=0\n",
    "    for iblock in range(nb):\n",
    "        if abs(derive_par_block[iblock][im])>seuil1:\n",
    "            blockcounteur+=1\n",
    "    if float(blockcounteur)/nb>=seuil2:\n",
    "        myResult.append(im)\n",
    "        \n",
    "precision, recall = myEvaluation(RepCode,myResult)\n",
    "print(precision)\n",
    "print(recall)\n",
    "myWriteCSV(RepCode+'myResult.csv',myResult)  #ne pas changer le nom"
   ]
  },
  {
   "cell_type": "code",
   "execution_count": 64,
   "metadata": {
    "collapsed": true
   },
   "outputs": [],
   "source": [
    "liste_liste_precision=[]\n",
    "liste_liste_recall=[]\n",
    "\n",
    "for seuil1 in range(5,10):\n",
    "    liste_precision=[]\n",
    "    liste_recall=[]\n",
    "    \n",
    "    for seuil2 in range(30,70,10):\n",
    "        liste_myResult=[]\n",
    "        \n",
    "        for im in range(0,NbImages): \n",
    "            blockcounteur=0\n",
    "            for iblock in range(0,nb):\n",
    "                if abs(derive_par_block[iblock][im])>seuil1:\n",
    "                    blockcounteur=blockcounteur+1\n",
    "           \n",
    "            if float(blockcounteur)/float(nb)>=float(seuil2)/float(100):\n",
    "                liste_myResult.append(im)\n",
    "        \n",
    "        lprecision, lrecall = myEvaluation(RepCode,liste_myResult)\n",
    "        liste_precision.append(lprecision)\n",
    "        liste_recall.append(lrecall)\n",
    "    \n",
    "    liste_liste_precision.append(liste_precision)\n",
    "    liste_liste_recall.append(liste_recall)"
   ]
  },
  {
   "cell_type": "code",
   "execution_count": 65,
   "metadata": {},
   "outputs": [],
   "source": [
    "#visu\n",
    "#  y est le recall\n",
    "#  x est le seuil2 sur le nombre le % blockes (ex: 5 => 50% => 8 sur 16)\n",
    "# chaque courbe correspond au seuil1 (niveau de modification sur 1 block)\n",
    "for i in range(0,5):\n",
    "    plt.plot(liste_liste_recall[i],label=(i))\n",
    "    plt.legend(ncol=1, borderaxespad=0.)"
   ]
  },
  {
   "cell_type": "code",
   "execution_count": 66,
   "metadata": {
    "scrolled": false
   },
   "outputs": [],
   "source": [
    "#visu\n",
    "for i in range(0,5):\n",
    "    plt.plot(liste_liste_precision[i],label=i)\n",
    "    plt.legend(ncol=1, borderaxespad=0.)"
   ]
  },
  {
   "cell_type": "markdown",
   "metadata": {},
   "source": [
    "## Le Rouge"
   ]
  },
  {
   "cell_type": "code",
   "execution_count": 67,
   "metadata": {
    "collapsed": true
   },
   "outputs": [],
   "source": [
    "#load\n",
    "dbRGB = myLoadImage(RepImages,'listfull.txt','RGB')\n",
    "dbRed=[]\n",
    "dbBlue=[]\n",
    "dbGreen=[]\n",
    "\n",
    "for i in range(0,NbImages):\n",
    "    (lBlue, lGreen, lRed) = cv2.split(dbRGB[i])\n",
    "    dbBlue.append(lBlue)    \n",
    "    dbGreen.append(lGreen)\n",
    "    dbRed.append(lRed)\n",
    "\n",
    "nbBlocks=4 #pour 4x4\n",
    "liste_im=dbRed\n",
    "\n",
    "liste_block_images=[]\n",
    "for im in range(0,NbImages):\n",
    "    liste_block_images.append(myDivideBlocks(nbBlocks,liste_im[im]))\n",
    "\n",
    "#calcul de la moyenne de chaque block\n",
    "megaliste=[]\n",
    "for iblock in range(0,nbBlocks**2):\n",
    "    liste=[]\n",
    "    for im in range(0,NbImages): \n",
    "        liste.append(np.mean(liste_block_images[im][iblock][:,:,]))\n",
    "    megaliste.append(liste)\n",
    "    \n",
    "megalisteR=megaliste\n",
    "\n",
    "#calcul de la derivé (en pratique, c'est juste la difference)\n",
    "derive_par_block=[]\n",
    "for iblock in range(0,nbBlocks**2):\n",
    "    derive=[]\n",
    "    derive.append(0)\n",
    "    for im in range(1,NbImages): \n",
    "        derive.append(megaliste[iblock][im]-megaliste[iblock][im-1])\n",
    "    derive_par_block.append(derive)"
   ]
  },
  {
   "cell_type": "code",
   "execution_count": 68,
   "metadata": {},
   "outputs": [
    {
     "name": "stdout",
     "output_type": "stream",
     "text": [
      "0.0\n",
      "0.0\n"
     ]
    }
   ],
   "source": [
    "seuil1=7\n",
    "seuil2=0.5\n",
    "myResult=[]\n",
    "\n",
    "for im in range(0,len(liste_im)): \n",
    "    blockcounteur=0\n",
    "    for iblock in range(0,nbBlocks**2):\n",
    "        if abs(derive_par_block[iblock][im])>seuil1:\n",
    "            blockcounteur+=+1\n",
    "    if float(blockcounteur)/float(nbBlocks**2)>=seuil2:\n",
    "        myResult.append(im)\n",
    "        \n",
    "precision, recall = myEvaluation(RepCode,myResult)\n",
    "print(precision)\n",
    "print(recall)\n",
    "myWriteCSV(RepCode+'myResult.csv',myResult)  #ne pas changer le nom"
   ]
  },
  {
   "cell_type": "markdown",
   "metadata": {},
   "source": [
    "## Le Bleu"
   ]
  },
  {
   "cell_type": "code",
   "execution_count": 69,
   "metadata": {
    "collapsed": true
   },
   "outputs": [],
   "source": [
    "nbBlocks=4 #pour 4x4\n",
    "liste_im=dbBlue\n",
    "\n",
    "liste_block_images=[]\n",
    "for im in range(0,NbImages):\n",
    "    liste_block_images.append(myDivideBlocks(nbBlocks,liste_im[im]))\n",
    "\n",
    "#calcul de la moyenne de chaque block\n",
    "megaliste=[]\n",
    "for iblock in range(0,nbBlocks**2):\n",
    "    liste=[]\n",
    "    for im in range(0,NbImages): \n",
    "        liste.append(np.mean(liste_block_images[im][iblock][:,:,]))\n",
    "    megaliste.append(liste)\n",
    "    \n",
    "megalisteB=megaliste\n",
    "\n",
    "#calcul de la derivé (en pratique, c'est juste la difference)\n",
    "derive_par_block=[]\n",
    "for iblock in range(0,nbBlocks**2):\n",
    "    derive=[]\n",
    "    derive.append(0)\n",
    "    for im in range(1,NbImages): \n",
    "        derive.append(megaliste[iblock][im]-megaliste[iblock][im-1])\n",
    "    derive_par_block.append(derive)"
   ]
  },
  {
   "cell_type": "code",
   "execution_count": 70,
   "metadata": {},
   "outputs": [
    {
     "name": "stdout",
     "output_type": "stream",
     "text": [
      "0.0\n",
      "0.0\n"
     ]
    }
   ],
   "source": [
    "seuil1=10\n",
    "seuil2=0.50\n",
    "myResult=[]\n",
    "\n",
    "for im in range(0,len(liste_im)): \n",
    "    blockcounteur=0\n",
    "    for iblock in range(0,nbBlocks**2):\n",
    "        if abs(derive_par_block[iblock][im])>seuil1:\n",
    "            blockcounteur+=+1\n",
    "    if float(blockcounteur)/float(nbBlocks**2)>=seuil2:\n",
    "        myResult.append(im)\n",
    "        \n",
    "precision, recall = myEvaluation(RepCode,myResult)\n",
    "print(precision)\n",
    "print(recall)\n",
    "myWriteCSV(RepCode+'myResult.csv',myResult)  #ne pas changer le nom"
   ]
  },
  {
   "cell_type": "markdown",
   "metadata": {},
   "source": [
    "## Le Vert"
   ]
  },
  {
   "cell_type": "code",
   "execution_count": 71,
   "metadata": {
    "collapsed": true
   },
   "outputs": [],
   "source": [
    "nbBlocks=4 #pour 4x4\n",
    "liste_im=dbGreen\n",
    "\n",
    "liste_block_images=[]\n",
    "for im in range(0,NbImages):\n",
    "    liste_block_images.append(myDivideBlocks(nbBlocks,liste_im[im]))\n",
    "\n",
    "#calcul de la moyenne de chaque block\n",
    "megaliste=[]\n",
    "for iblock in range(0,nbBlocks**2):\n",
    "    liste=[]\n",
    "    for im in range(0,NbImages): \n",
    "        liste.append(np.mean(liste_block_images[im][iblock][:,:,]))\n",
    "    megaliste.append(liste)\n",
    "    \n",
    "megalisteG=megaliste\n",
    "\n",
    "#calcul de la derivé (en pratique, c'est juste la difference)\n",
    "derive_par_block=[]\n",
    "for iblock in range(0,nbBlocks**2):\n",
    "    derive=[]\n",
    "    derive.append(0)\n",
    "    for im in range(1,NbImages): \n",
    "        derive.append(megaliste[iblock][im]-megaliste[iblock][im-1])\n",
    "    derive_par_block.append(derive)"
   ]
  },
  {
   "cell_type": "code",
   "execution_count": 72,
   "metadata": {},
   "outputs": [
    {
     "name": "stdout",
     "output_type": "stream",
     "text": [
      "0.0\n",
      "0.0\n"
     ]
    }
   ],
   "source": [
    "seuil1=8\n",
    "seuil2=0.5\n",
    "myResult=[]\n",
    "\n",
    "for im in range(0,len(liste_im)): \n",
    "    blockcounteur=0\n",
    "    for iblock in range(0,nbBlocks**2):\n",
    "        if abs(derive_par_block[iblock][im])>seuil1:\n",
    "            blockcounteur+=+1\n",
    "    if float(blockcounteur)/float(nbBlocks**2)>=seuil2:\n",
    "        myResult.append(im)\n",
    "        \n",
    "precision, recall = myEvaluation(RepCode,myResult)\n",
    "print(precision)\n",
    "print(recall)\n",
    "myWriteCSV(RepCode+'myResult.csv',myResult)  #ne pas changer le nom"
   ]
  },
  {
   "cell_type": "markdown",
   "metadata": {},
   "source": [
    "## Le Hue"
   ]
  },
  {
   "cell_type": "code",
   "execution_count": 73,
   "metadata": {
    "collapsed": true
   },
   "outputs": [],
   "source": [
    "nbBlocks=4 #pour 4x4\n",
    "liste_im=dbH\n",
    "\n",
    "liste_block_images=[]\n",
    "for im in range(0,NbImages):\n",
    "    liste_block_images.append(myDivideBlocks(nbBlocks,liste_im[im]))\n",
    "\n",
    "#calcul de la moyenne de chaque block\n",
    "megaliste=[]\n",
    "for iblock in range(0,nbBlocks**2):\n",
    "    liste=[]\n",
    "    for im in range(0,NbImages): \n",
    "        liste.append(np.mean(liste_block_images[im][iblock][:,:,]))\n",
    "    megaliste.append(liste)\n",
    "    \n",
    "megalisteH=megaliste\n",
    "\n",
    "#calcul de la derivé (en pratique, c'est juste la difference)\n",
    "derive_par_block=[]\n",
    "for iblock in range(0,nbBlocks**2):\n",
    "    derive=[]\n",
    "    derive.append(0)\n",
    "    for im in range(1,NbImages): \n",
    "        derive.append(megaliste[iblock][im]-megaliste[iblock][im-1])\n",
    "    derive_par_block.append(derive)"
   ]
  },
  {
   "cell_type": "code",
   "execution_count": 74,
   "metadata": {},
   "outputs": [
    {
     "name": "stdout",
     "output_type": "stream",
     "text": [
      "4.545454545454546\n",
      "0.18726591760299627\n"
     ]
    }
   ],
   "source": [
    "seuil1=10\n",
    "seuil2=0.50\n",
    "myResult=[]\n",
    "\n",
    "for im in range(0,len(liste_im)): \n",
    "    blockcounteur=0\n",
    "    for iblock in range(0,nbBlocks**2):\n",
    "        if abs(derive_par_block[iblock][im])>seuil1:\n",
    "            blockcounteur+=+1\n",
    "    if float(blockcounteur)/float(nbBlocks**2)>=seuil2:\n",
    "        myResult.append(im)\n",
    "        \n",
    "precision, recall = myEvaluation(RepCode,myResult)\n",
    "print(precision)\n",
    "print(recall)\n",
    "myWriteCSV(RepCode+'myResult.csv',myResult)  #ne pas changer le nom"
   ]
  },
  {
   "cell_type": "markdown",
   "metadata": {},
   "source": [
    "## La Saturation"
   ]
  },
  {
   "cell_type": "code",
   "execution_count": 75,
   "metadata": {
    "collapsed": true
   },
   "outputs": [],
   "source": [
    "nbBlocks=4 #pour 4x4\n",
    "liste_im=dbS\n",
    "\n",
    "liste_block_images=[]\n",
    "for im in range(0,NbImages):\n",
    "    liste_block_images.append(myDivideBlocks(nbBlocks,liste_im[im]))\n",
    "\n",
    "#calcul de la moyenne de chaque block\n",
    "megaliste=[]\n",
    "for iblock in range(0,nbBlocks**2):\n",
    "    liste=[]\n",
    "    for im in range(0,NbImages): \n",
    "        liste.append(np.mean(liste_block_images[im][iblock][:,:,]))\n",
    "    megaliste.append(liste)\n",
    "    \n",
    "megalisteS=megaliste\n",
    "\n",
    "#calcul de la derivé (en pratique, c'est juste la difference)\n",
    "derive_par_block=[]\n",
    "for iblock in range(0,nbBlocks**2):\n",
    "    derive=[]\n",
    "    derive.append(0)\n",
    "    for im in range(1,NbImages): \n",
    "        derive.append(megaliste[iblock][im]-megaliste[iblock][im-1])\n",
    "    derive_par_block.append(derive)"
   ]
  },
  {
   "cell_type": "code",
   "execution_count": 76,
   "metadata": {},
   "outputs": [
    {
     "name": "stdout",
     "output_type": "stream",
     "text": [
      "4.545454545454546\n",
      "0.18726591760299627\n"
     ]
    }
   ],
   "source": [
    "seuil1=8\n",
    "seuil2=0.5\n",
    "myResult=[]\n",
    "\n",
    "for im in range(0,NbImages): \n",
    "    blockcounteur=0\n",
    "    for iblock in range(0,nbBlocks**2):\n",
    "        if abs(derive_par_block[iblock][im])>seuil1:\n",
    "            blockcounteur+=+1\n",
    "    if float(blockcounteur)/float(nbBlocks**2)>=seuil2:\n",
    "        myResult.append(im)\n",
    "        \n",
    "precision, recall = myEvaluation(RepCode,myResult)\n",
    "print(precision)\n",
    "print(recall)\n",
    "myWriteCSV(RepCode+'myResult.csv',myResult)  #ne pas changer le nom"
   ]
  },
  {
   "cell_type": "markdown",
   "metadata": {},
   "source": [
    "## Le V de HSV"
   ]
  },
  {
   "cell_type": "code",
   "execution_count": 77,
   "metadata": {
    "collapsed": true
   },
   "outputs": [],
   "source": [
    "nbBlocks=4 #pour 4x4\n",
    "liste_im=dbV\n",
    "\n",
    "liste_block_images=[]\n",
    "for im in range(0,NbImages):\n",
    "    liste_block_images.append(myDivideBlocks(nbBlocks,liste_im[im]))\n",
    "\n",
    "#calcul de la moyenne de chaque block\n",
    "megaliste=[]\n",
    "for iblock in range(0,nbBlocks**2):\n",
    "    liste=[]\n",
    "    for im in range(0,NbImages): \n",
    "        liste.append(np.mean(liste_block_images[im][iblock][:,:,]))\n",
    "    megaliste.append(liste)\n",
    "    \n",
    "megalisteV=megaliste\n",
    "\n",
    "#calcul de la derivé (en pratique, c'est juste la difference)\n",
    "derive_par_block=[]\n",
    "for iblock in range(0,nbBlocks**2):\n",
    "    derive=[]\n",
    "    derive.append(0)\n",
    "    for im in range(1,NbImages): \n",
    "        derive.append(megaliste[iblock][im]-megaliste[iblock][im-1])\n",
    "    derive_par_block.append(derive)"
   ]
  },
  {
   "cell_type": "code",
   "execution_count": 78,
   "metadata": {},
   "outputs": [
    {
     "name": "stdout",
     "output_type": "stream",
     "text": [
      "4.761904761904762\n",
      "0.18761726078799248\n"
     ]
    }
   ],
   "source": [
    "seuil1=7\n",
    "seuil2=0.5\n",
    "myResult=[]\n",
    "\n",
    "for im in range(0,NbImages): \n",
    "    blockcounteur=0\n",
    "    for iblock in range(0,nbBlocks**2):\n",
    "        if abs(derive_par_block[iblock][im])>seuil1:\n",
    "            blockcounteur+=+1\n",
    "    if float(blockcounteur)/float(nbBlocks**2)>=seuil2:\n",
    "        myResult.append(im)\n",
    "        \n",
    "precision, recall = myEvaluation(RepCode,myResult)\n",
    "print(precision)\n",
    "print(recall)\n",
    "myWriteCSV(RepCode+'myResult.csv',myResult)  #ne pas changer le nom"
   ]
  },
  {
   "cell_type": "markdown",
   "metadata": {},
   "source": [
    "### Combinaison des 7 channels (RGBHSVgris)"
   ]
  },
  {
   "cell_type": "code",
   "execution_count": 79,
   "metadata": {
    "collapsed": true
   },
   "outputs": [],
   "source": [
    "#Calcul de la distance euclidienne\n",
    "combi=[megalisteR,megalisteG,megalisteB,megalisteH,megalisteS,megalisteV,megalisteGris]\n",
    "\n",
    "megadistance=[]\n",
    "for iblock in range(0,nbBlocks**2):\n",
    "    liste_distance=[]\n",
    "    liste_distance.append(0) #initialisation\n",
    "    for im in range(1,NbImages):\n",
    "        ldistance=0.0\n",
    "        for channel in combi:\n",
    "            ldistance+=(channel[iblock][im]-channel[iblock][im-1])**2\n",
    "        liste_distance.append(math.sqrt(ldistance))\n",
    "    megadistance.append(liste_distance)   "
   ]
  },
  {
   "cell_type": "code",
   "execution_count": 80,
   "metadata": {},
   "outputs": [
    {
     "name": "stdout",
     "output_type": "stream",
     "text": [
      "2.2222222222222223\n",
      "0.17953321364452424\n"
     ]
    }
   ],
   "source": [
    "seuil1=26\n",
    "seuil2=0.50\n",
    "myResult=[]\n",
    "\n",
    "for im in range(0,NbImages): \n",
    "    blockcounteur=0\n",
    "    for iblock in range(0,nbBlocks**2):\n",
    "        if megadistance[iblock][im]>seuil1:\n",
    "            blockcounteur+=+1\n",
    "    if float(blockcounteur)/float(nbBlocks**2)>=seuil2:\n",
    "        myResult.append(im)\n",
    "        \n",
    "precision, recall = myEvaluation(RepCode,myResult)\n",
    "print(precision)\n",
    "print(recall)\n",
    "myWriteCSV(RepCode+'myResult.csv',myResult)  #ne pas changer le nom"
   ]
  },
  {
   "cell_type": "markdown",
   "metadata": {},
   "source": [
    "## Calcul par histogramme (en 4x4)"
   ]
  },
  {
   "cell_type": "code",
   "execution_count": 81,
   "metadata": {
    "collapsed": true
   },
   "outputs": [],
   "source": [
    "nbBlocks=4 #pour 4x4\n",
    "liste_im=myLoadImage(RepImages,'list.txt','gris')\n",
    "\n",
    "liste_block_images=[]\n",
    "for im in range(len(liste_im)):\n",
    "    liste_block_images.append(myDivideBlocks(nbBlocks,liste_im[im]))"
   ]
  },
  {
   "cell_type": "code",
   "execution_count": 82,
   "metadata": {
    "collapsed": true
   },
   "outputs": [],
   "source": [
    "lhistblock=[]\n",
    "for iblock in range(nb):\n",
    "    liste=[]\n",
    "    for im in range(NbImages):\n",
    "        block_hist=cv2.calcHist(liste_block_images[im][iblock],[0],None,[64],[0,255])\n",
    "        #liste.append(block_hist)\n",
    "        liste.append(cv2.normalize(block_hist,block_hist, 1.0, 0.0, cv2.NORM_L1))\n",
    "    lhistblock.append(liste)"
   ]
  },
  {
   "cell_type": "code",
   "execution_count": 83,
   "metadata": {
    "collapsed": true,
    "scrolled": true
   },
   "outputs": [],
   "source": [
    "# Calcul de la distance Chi2, plus adapté aux histogrammes\n",
    "lChiDistBloc=[]\n",
    "for iblock in range(nb):\n",
    "    dist=[]\n",
    "    #dist.append(0) #initialisation\n",
    "    for im in range(NbImages):\n",
    "        dist.append(cv2.compareHist(lhistblock[iblock][im],lhistblock[iblock][im-1],cv2.HISTCMP_CHISQR_ALT))\n",
    "    lChiDistBloc.append(dist)"
   ]
  },
  {
   "cell_type": "code",
   "execution_count": 84,
   "metadata": {},
   "outputs": [],
   "source": [
    "#visu\n",
    "plt.figure()\n",
    "for i in range(nb):    \n",
    "    plt.subplot(4,4,i+1)\n",
    "    plt.xticks([]), plt.yticks([])\n",
    "    #plt.axis([0, NbImages, 0, 5])\n",
    "    plt.axis([0, 100, 0, 5])\n",
    "    plt.plot(lChiDistBloc[i])"
   ]
  },
  {
   "cell_type": "code",
   "execution_count": 85,
   "metadata": {
    "scrolled": true
   },
   "outputs": [
    {
     "data": {
      "image/png": "[encoded data removed]",
      "text/plain": [
       "<matplotlib.figure.Figure at 0x186ed4ec978>"
      ]
     },
     "metadata": {},
     "output_type": "display_data"
    },
    {
     "data": {
      "image/png": "[encoded data removed]",
      "text/plain": [
       "<matplotlib.figure.Figure at 0x186f08320f0>"
      ]
     },
     "metadata": {},
     "output_type": "display_data"
    },
    {
     "data": {
      "image/png": "[encoded data removed]",
      "text/plain": [
       "<matplotlib.figure.Figure at 0x186ed74f940>"
      ]
     },
     "metadata": {},
     "output_type": "display_data"
    },
    {
     "data": {
      "image/png": "[encoded data removed]",
      "text/plain": [
       "<matplotlib.figure.Figure at 0x186ed71a668>"
      ]
     },
     "metadata": {},
     "output_type": "display_data"
    },
    {
     "data": {
      "image/png": "[encoded data removed]",
      "text/plain": [
       "<matplotlib.figure.Figure at 0x186f55b35f8>"
      ]
     },
     "metadata": {},
     "output_type": "display_data"
    },
    {
     "data": {
      "image/png": "[encoded data removed]",
      "text/plain": [
       "<matplotlib.figure.Figure at 0x186f5c18160>"
      ]
     },
     "metadata": {},
     "output_type": "display_data"
    },
    {
     "data": {
      "image/png": "[encoded data removed]",
      "text/plain": [
       "<matplotlib.figure.Figure at 0x186ff8fd3c8>"
      ]
     },
     "metadata": {},
     "output_type": "display_data"
    },
    {
     "data": {
      "image/png": "[encoded data removed]",
      "text/plain": [
       "<matplotlib.figure.Figure at 0x186ff8fd4a8>"
      ]
     },
     "metadata": {},
     "output_type": "display_data"
    }
   ],
   "source": [
    "#visu\n",
    "plt.figure()\n",
    "plt.axis([0, 100,0, 5])\n",
    "plt.plot(lChiDistBloc[0])\n",
    "plt.show()"
   ]
  },
  {
   "cell_type": "code",
   "execution_count": 86,
   "metadata": {},
   "outputs": [
    {
     "name": "stdout",
     "output_type": "stream",
     "text": [
      "5.555555555555555\n",
      "0.18867924528301888\n"
     ]
    }
   ],
   "source": [
    "#zero false negatives\n",
    "\n",
    "seuil1=2.3\n",
    "seuil2=0.4\n",
    "\n",
    "#best with normalisation but regumlar chi\n",
    "#seuil1=0.59\n",
    "#seuil2=0.70\n",
    "\n",
    "#the best without normalisation (91,89 and 91.56)\n",
    "#seuil1=50\n",
    "#seuil2=0.65\n",
    "myResult=[]\n",
    "\n",
    "for im in range(NbImages): \n",
    "    blockcounteur=0\n",
    "    for iblock in range(nbBlocks**2):\n",
    "        if lChiDistBloc[iblock][im]>seuil1:\n",
    "            blockcounteur+=1\n",
    "    if float(blockcounteur)/float(nbBlocks**2)>=seuil2:\n",
    "        myResult.append(im)\n",
    "        \n",
    "precision, recall = myEvaluation(RepCode,myResult)\n",
    "print(precision)\n",
    "print(recall)\n",
    "myWriteCSV(RepCode+'myResult.csv',myResult)  #ne pas changer le nom"
   ]
  },
  {
   "cell_type": "markdown",
   "metadata": {},
   "source": [
    "# Calcul des knn"
   ]
  },
  {
   "cell_type": "markdown",
   "metadata": {},
   "source": [
    "Le principe est de faire un k-fold sur les histogrammes des images"
   ]
  },
  {
   "cell_type": "markdown",
   "metadata": {},
   "source": [
    "Ingestion gold-standard :"
   ]
  },
  {
   "cell_type": "code",
   "execution_count": 162,
   "metadata": {},
   "outputs": [
    {
     "name": "stdout",
     "output_type": "stream",
     "text": [
      "<class 'numpy.ndarray'>\n"
     ]
    }
   ],
   "source": [
    "import csv\n",
    "path1 = \"X:\\\\Dropbox\\\\CES DAta sciences\\\\Cours\\\\Module 4\\\\Projet\\\\evasion\\\\\"\n",
    "with open(path1 + 'goldResult_5fps.csv', 'rt') as csvfile:\n",
    "    gold_std = csv.reader(csvfile, delimiter='\\n')\n",
    "    for l in gold_std:\n",
    "        for k in l:            \n",
    "            goldstd.append(int(k))\n",
    "resultat = np.array(goldstd)"
   ]
  },
  {
   "cell_type": "code",
   "execution_count": 178,
   "metadata": {},
   "outputs": [
    {
     "ename": "ValueError",
     "evalue": "x and y can be no greater than 2-D, but have shapes (115,) and (115, 64, 1)",
     "output_type": "error",
     "traceback": [
      "\u001b[0;31m---------------------------------------------------------------------------\u001b[0m",
      "\u001b[0;31mValueError\u001b[0m                                Traceback (most recent call last)",
      "\u001b[0;32m<ipython-input-178-fda9c9193100>\u001b[0m in \u001b[0;36m<module>\u001b[0;34m()\u001b[0m\n\u001b[1;32m      2\u001b[0m \u001b[0mnp\u001b[0m\u001b[1;33m.\u001b[0m\u001b[0mset_printoptions\u001b[0m\u001b[1;33m(\u001b[0m\u001b[0mthreshold\u001b[0m\u001b[1;33m=\u001b[0m\u001b[0msys\u001b[0m\u001b[1;33m.\u001b[0m\u001b[0mmaxsize\u001b[0m\u001b[1;33m)\u001b[0m\u001b[1;33m\u001b[0m\u001b[0m\n\u001b[1;32m      3\u001b[0m \u001b[0mplt\u001b[0m\u001b[1;33m.\u001b[0m\u001b[0mfigure\u001b[0m\u001b[1;33m(\u001b[0m\u001b[1;33m)\u001b[0m\u001b[1;33m\u001b[0m\u001b[0m\n\u001b[0;32m----> 4\u001b[0;31m \u001b[0mplt\u001b[0m\u001b[1;33m.\u001b[0m\u001b[0mplot\u001b[0m\u001b[1;33m(\u001b[0m\u001b[0mlhistblock\u001b[0m\u001b[1;33m[\u001b[0m\u001b[1;36m0\u001b[0m\u001b[1;33m]\u001b[0m\u001b[1;33m)\u001b[0m\u001b[1;33m\u001b[0m\u001b[0m\n\u001b[0m\u001b[1;32m      5\u001b[0m \u001b[0mplt\u001b[0m\u001b[1;33m.\u001b[0m\u001b[0mshow\u001b[0m\u001b[1;33m(\u001b[0m\u001b[1;33m)\u001b[0m\u001b[1;33m\u001b[0m\u001b[0m\n",
      "\u001b[0;32mC:\\Users\\Marjorie\\Anaconda3\\lib\\site-packages\\matplotlib\\pyplot.py\u001b[0m in \u001b[0;36mplot\u001b[0;34m(*args, **kwargs)\u001b[0m\n\u001b[1;32m   3316\u001b[0m                       mplDeprecation)\n\u001b[1;32m   3317\u001b[0m     \u001b[1;32mtry\u001b[0m\u001b[1;33m:\u001b[0m\u001b[1;33m\u001b[0m\u001b[0m\n\u001b[0;32m-> 3318\u001b[0;31m         \u001b[0mret\u001b[0m \u001b[1;33m=\u001b[0m \u001b[0max\u001b[0m\u001b[1;33m.\u001b[0m\u001b[0mplot\u001b[0m\u001b[1;33m(\u001b[0m\u001b[1;33m*\u001b[0m\u001b[0margs\u001b[0m\u001b[1;33m,\u001b[0m \u001b[1;33m**\u001b[0m\u001b[0mkwargs\u001b[0m\u001b[1;33m)\u001b[0m\u001b[1;33m\u001b[0m\u001b[0m\n\u001b[0m\u001b[1;32m   3319\u001b[0m     \u001b[1;32mfinally\u001b[0m\u001b[1;33m:\u001b[0m\u001b[1;33m\u001b[0m\u001b[0m\n\u001b[1;32m   3320\u001b[0m         \u001b[0max\u001b[0m\u001b[1;33m.\u001b[0m\u001b[0m_hold\u001b[0m \u001b[1;33m=\u001b[0m \u001b[0mwashold\u001b[0m\u001b[1;33m\u001b[0m\u001b[0m\n",
      "\u001b[0;32mC:\\Users\\Marjorie\\Anaconda3\\lib\\site-packages\\matplotlib\\__init__.py\u001b[0m in \u001b[0;36minner\u001b[0;34m(ax, *args, **kwargs)\u001b[0m\n\u001b[1;32m   1889\u001b[0m                     warnings.warn(msg % (label_namer, func.__name__),\n\u001b[1;32m   1890\u001b[0m                                   RuntimeWarning, stacklevel=2)\n\u001b[0;32m-> 1891\u001b[0;31m             \u001b[1;32mreturn\u001b[0m \u001b[0mfunc\u001b[0m\u001b[1;33m(\u001b[0m\u001b[0max\u001b[0m\u001b[1;33m,\u001b[0m \u001b[1;33m*\u001b[0m\u001b[0margs\u001b[0m\u001b[1;33m,\u001b[0m \u001b[1;33m**\u001b[0m\u001b[0mkwargs\u001b[0m\u001b[1;33m)\u001b[0m\u001b[1;33m\u001b[0m\u001b[0m\n\u001b[0m\u001b[1;32m   1892\u001b[0m         \u001b[0mpre_doc\u001b[0m \u001b[1;33m=\u001b[0m \u001b[0minner\u001b[0m\u001b[1;33m.\u001b[0m\u001b[0m__doc__\u001b[0m\u001b[1;33m\u001b[0m\u001b[0m\n\u001b[1;32m   1893\u001b[0m         \u001b[1;32mif\u001b[0m \u001b[0mpre_doc\u001b[0m \u001b[1;32mis\u001b[0m \u001b[1;32mNone\u001b[0m\u001b[1;33m:\u001b[0m\u001b[1;33m\u001b[0m\u001b[0m\n",
      "\u001b[0;32mC:\\Users\\Marjorie\\Anaconda3\\lib\\site-packages\\matplotlib\\axes\\_axes.py\u001b[0m in \u001b[0;36mplot\u001b[0;34m(self, *args, **kwargs)\u001b[0m\n\u001b[1;32m   1404\u001b[0m         \u001b[0mkwargs\u001b[0m \u001b[1;33m=\u001b[0m \u001b[0mcbook\u001b[0m\u001b[1;33m.\u001b[0m\u001b[0mnormalize_kwargs\u001b[0m\u001b[1;33m(\u001b[0m\u001b[0mkwargs\u001b[0m\u001b[1;33m,\u001b[0m \u001b[0m_alias_map\u001b[0m\u001b[1;33m)\u001b[0m\u001b[1;33m\u001b[0m\u001b[0m\n\u001b[1;32m   1405\u001b[0m \u001b[1;33m\u001b[0m\u001b[0m\n\u001b[0;32m-> 1406\u001b[0;31m         \u001b[1;32mfor\u001b[0m \u001b[0mline\u001b[0m \u001b[1;32min\u001b[0m \u001b[0mself\u001b[0m\u001b[1;33m.\u001b[0m\u001b[0m_get_lines\u001b[0m\u001b[1;33m(\u001b[0m\u001b[1;33m*\u001b[0m\u001b[0margs\u001b[0m\u001b[1;33m,\u001b[0m \u001b[1;33m**\u001b[0m\u001b[0mkwargs\u001b[0m\u001b[1;33m)\u001b[0m\u001b[1;33m:\u001b[0m\u001b[1;33m\u001b[0m\u001b[0m\n\u001b[0m\u001b[1;32m   1407\u001b[0m             \u001b[0mself\u001b[0m\u001b[1;33m.\u001b[0m\u001b[0madd_line\u001b[0m\u001b[1;33m(\u001b[0m\u001b[0mline\u001b[0m\u001b[1;33m)\u001b[0m\u001b[1;33m\u001b[0m\u001b[0m\n\u001b[1;32m   1408\u001b[0m             \u001b[0mlines\u001b[0m\u001b[1;33m.\u001b[0m\u001b[0mappend\u001b[0m\u001b[1;33m(\u001b[0m\u001b[0mline\u001b[0m\u001b[1;33m)\u001b[0m\u001b[1;33m\u001b[0m\u001b[0m\n",
      "\u001b[0;32mC:\\Users\\Marjorie\\Anaconda3\\lib\\site-packages\\matplotlib\\axes\\_base.py\u001b[0m in \u001b[0;36m_grab_next_args\u001b[0;34m(self, *args, **kwargs)\u001b[0m\n\u001b[1;32m    405\u001b[0m                 \u001b[1;32mreturn\u001b[0m\u001b[1;33m\u001b[0m\u001b[0m\n\u001b[1;32m    406\u001b[0m             \u001b[1;32mif\u001b[0m \u001b[0mlen\u001b[0m\u001b[1;33m(\u001b[0m\u001b[0mremaining\u001b[0m\u001b[1;33m)\u001b[0m \u001b[1;33m<=\u001b[0m \u001b[1;36m3\u001b[0m\u001b[1;33m:\u001b[0m\u001b[1;33m\u001b[0m\u001b[0m\n\u001b[0;32m--> 407\u001b[0;31m                 \u001b[1;32mfor\u001b[0m \u001b[0mseg\u001b[0m \u001b[1;32min\u001b[0m \u001b[0mself\u001b[0m\u001b[1;33m.\u001b[0m\u001b[0m_plot_args\u001b[0m\u001b[1;33m(\u001b[0m\u001b[0mremaining\u001b[0m\u001b[1;33m,\u001b[0m \u001b[0mkwargs\u001b[0m\u001b[1;33m)\u001b[0m\u001b[1;33m:\u001b[0m\u001b[1;33m\u001b[0m\u001b[0m\n\u001b[0m\u001b[1;32m    408\u001b[0m                     \u001b[1;32myield\u001b[0m \u001b[0mseg\u001b[0m\u001b[1;33m\u001b[0m\u001b[0m\n\u001b[1;32m    409\u001b[0m                 \u001b[1;32mreturn\u001b[0m\u001b[1;33m\u001b[0m\u001b[0m\n",
      "\u001b[0;32mC:\\Users\\Marjorie\\Anaconda3\\lib\\site-packages\\matplotlib\\axes\\_base.py\u001b[0m in \u001b[0;36m_plot_args\u001b[0;34m(self, tup, kwargs)\u001b[0m\n\u001b[1;32m    383\u001b[0m             \u001b[0mx\u001b[0m\u001b[1;33m,\u001b[0m \u001b[0my\u001b[0m \u001b[1;33m=\u001b[0m \u001b[0mindex_of\u001b[0m\u001b[1;33m(\u001b[0m\u001b[0mtup\u001b[0m\u001b[1;33m[\u001b[0m\u001b[1;33m-\u001b[0m\u001b[1;36m1\u001b[0m\u001b[1;33m]\u001b[0m\u001b[1;33m)\u001b[0m\u001b[1;33m\u001b[0m\u001b[0m\n\u001b[1;32m    384\u001b[0m \u001b[1;33m\u001b[0m\u001b[0m\n\u001b[0;32m--> 385\u001b[0;31m         \u001b[0mx\u001b[0m\u001b[1;33m,\u001b[0m \u001b[0my\u001b[0m \u001b[1;33m=\u001b[0m \u001b[0mself\u001b[0m\u001b[1;33m.\u001b[0m\u001b[0m_xy_from_xy\u001b[0m\u001b[1;33m(\u001b[0m\u001b[0mx\u001b[0m\u001b[1;33m,\u001b[0m \u001b[0my\u001b[0m\u001b[1;33m)\u001b[0m\u001b[1;33m\u001b[0m\u001b[0m\n\u001b[0m\u001b[1;32m    386\u001b[0m \u001b[1;33m\u001b[0m\u001b[0m\n\u001b[1;32m    387\u001b[0m         \u001b[1;32mif\u001b[0m \u001b[0mself\u001b[0m\u001b[1;33m.\u001b[0m\u001b[0mcommand\u001b[0m \u001b[1;33m==\u001b[0m \u001b[1;34m'plot'\u001b[0m\u001b[1;33m:\u001b[0m\u001b[1;33m\u001b[0m\u001b[0m\n",
      "\u001b[0;32mC:\\Users\\Marjorie\\Anaconda3\\lib\\site-packages\\matplotlib\\axes\\_base.py\u001b[0m in \u001b[0;36m_xy_from_xy\u001b[0;34m(self, x, y)\u001b[0m\n\u001b[1;32m    245\u001b[0m         \u001b[1;32mif\u001b[0m \u001b[0mx\u001b[0m\u001b[1;33m.\u001b[0m\u001b[0mndim\u001b[0m \u001b[1;33m>\u001b[0m \u001b[1;36m2\u001b[0m \u001b[1;32mor\u001b[0m \u001b[0my\u001b[0m\u001b[1;33m.\u001b[0m\u001b[0mndim\u001b[0m \u001b[1;33m>\u001b[0m \u001b[1;36m2\u001b[0m\u001b[1;33m:\u001b[0m\u001b[1;33m\u001b[0m\u001b[0m\n\u001b[1;32m    246\u001b[0m             raise ValueError(\"x and y can be no greater than 2-D, but have \"\n\u001b[0;32m--> 247\u001b[0;31m                              \"shapes {} and {}\".format(x.shape, y.shape))\n\u001b[0m\u001b[1;32m    248\u001b[0m \u001b[1;33m\u001b[0m\u001b[0m\n\u001b[1;32m    249\u001b[0m         \u001b[1;32mif\u001b[0m \u001b[0mx\u001b[0m\u001b[1;33m.\u001b[0m\u001b[0mndim\u001b[0m \u001b[1;33m==\u001b[0m \u001b[1;36m1\u001b[0m\u001b[1;33m:\u001b[0m\u001b[1;33m\u001b[0m\u001b[0m\n",
      "\u001b[0;31mValueError\u001b[0m: x and y can be no greater than 2-D, but have shapes (115,) and (115, 64, 1)"
     ]
    }
   ],
   "source": [
    "import sys\n",
    "np.set_printoptions(threshold=sys.maxsize)\n",
    "plt.figure()\n",
    "plt.plot(lhistblock[0])\n",
    "plt.show()"
   ]
  },
  {
   "cell_type": "code",
   "execution_count": null,
   "metadata": {
    "collapsed": true
   },
   "outputs": [],
   "source": [
    "from sklearn.neighbors import KNeighborsClassifier\n",
    "n_neighbors = 5\n",
    "neigh = KNeighborsClassifier(n_neighbors)\n",
    "neigh.fit(X_train, y_train)\n",
    "y_pred_sk = neigh.predict(X_validation)\n",
    "accuracy_score(y_pred_sk, y_validation)"
   ]
  }
 ],
 "metadata": {
  "kernelspec": {
   "display_name": "Python 3",
   "language": "python",
   "name": "python3"
  },
  "language_info": {
   "codemirror_mode": {
    "name": "ipython",
    "version": 3
   },
   "file_extension": ".py",
   "mimetype": "text/x-python",
   "name": "python",
   "nbconvert_exporter": "python",
   "pygments_lexer": "ipython3",
   "version": "3.6.0"
  }
 },
 "nbformat": 4,
 "nbformat_minor": 2
}
